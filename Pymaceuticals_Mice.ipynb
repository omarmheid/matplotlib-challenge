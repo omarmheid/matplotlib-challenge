{
 "cells": [
  {
   "cell_type": "code",
   "execution_count": 1,
   "metadata": {},
   "outputs": [],
   "source": [
    "#%matplotlib notebook"
   ]
  },
  {
   "cell_type": "code",
   "execution_count": 143,
   "metadata": {},
   "outputs": [],
   "source": [
    "import matplotlib.pyplot as plt \n",
    "import pandas as pd \n",
    "import scipy.stats as st \n",
    "import numpy as np\n",
    "from scipy.stats import linregress"
   ]
  },
  {
   "cell_type": "code",
   "execution_count": 3,
   "metadata": {},
   "outputs": [],
   "source": [
    "mouse_metadata = r\"C:\\Users\\omarm\\OneDrive\\Documents\\GitHub\\GWU-ARL-DATA-PT-12-2019-U-C\\02-Homework\\05-Matplotlib\\Instructions\\Pymaceuticals\\data\\Mouse_metadata.csv\"\n",
    "study_results = r\"C:\\Users\\omarm\\OneDrive\\Documents\\GitHub\\GWU-ARL-DATA-PT-12-2019-U-C\\02-Homework\\05-Matplotlib\\Instructions\\Pymaceuticals\\data\\Study_results.csv\""
   ]
  },
  {
   "cell_type": "code",
   "execution_count": 4,
   "metadata": {},
   "outputs": [],
   "source": [
    "mouse_metadata = pd.read_csv(mouse_metadata)\n",
    "study_results = pd.read_csv(study_results)"
   ]
  },
  {
   "cell_type": "code",
   "execution_count": 5,
   "metadata": {},
   "outputs": [
    {
     "data": {
      "text/html": [
       "<div>\n",
       "<style scoped>\n",
       "    .dataframe tbody tr th:only-of-type {\n",
       "        vertical-align: middle;\n",
       "    }\n",
       "\n",
       "    .dataframe tbody tr th {\n",
       "        vertical-align: top;\n",
       "    }\n",
       "\n",
       "    .dataframe thead th {\n",
       "        text-align: right;\n",
       "    }\n",
       "</style>\n",
       "<table border=\"1\" class=\"dataframe\">\n",
       "  <thead>\n",
       "    <tr style=\"text-align: right;\">\n",
       "      <th></th>\n",
       "      <th>Mouse ID</th>\n",
       "      <th>Timepoint</th>\n",
       "      <th>Tumor Volume (mm3)</th>\n",
       "      <th>Metastatic Sites</th>\n",
       "      <th>Drug Regimen</th>\n",
       "      <th>Sex</th>\n",
       "      <th>Age_months</th>\n",
       "      <th>Weight (g)</th>\n",
       "    </tr>\n",
       "  </thead>\n",
       "  <tbody>\n",
       "    <tr>\n",
       "      <td>0</td>\n",
       "      <td>b128</td>\n",
       "      <td>0</td>\n",
       "      <td>45.0</td>\n",
       "      <td>0</td>\n",
       "      <td>Capomulin</td>\n",
       "      <td>Female</td>\n",
       "      <td>9</td>\n",
       "      <td>22</td>\n",
       "    </tr>\n",
       "    <tr>\n",
       "      <td>1</td>\n",
       "      <td>f932</td>\n",
       "      <td>0</td>\n",
       "      <td>45.0</td>\n",
       "      <td>0</td>\n",
       "      <td>Ketapril</td>\n",
       "      <td>Male</td>\n",
       "      <td>15</td>\n",
       "      <td>29</td>\n",
       "    </tr>\n",
       "    <tr>\n",
       "      <td>2</td>\n",
       "      <td>g107</td>\n",
       "      <td>0</td>\n",
       "      <td>45.0</td>\n",
       "      <td>0</td>\n",
       "      <td>Ketapril</td>\n",
       "      <td>Female</td>\n",
       "      <td>2</td>\n",
       "      <td>29</td>\n",
       "    </tr>\n",
       "    <tr>\n",
       "      <td>3</td>\n",
       "      <td>a457</td>\n",
       "      <td>0</td>\n",
       "      <td>45.0</td>\n",
       "      <td>0</td>\n",
       "      <td>Ketapril</td>\n",
       "      <td>Female</td>\n",
       "      <td>11</td>\n",
       "      <td>30</td>\n",
       "    </tr>\n",
       "    <tr>\n",
       "      <td>4</td>\n",
       "      <td>c819</td>\n",
       "      <td>0</td>\n",
       "      <td>45.0</td>\n",
       "      <td>0</td>\n",
       "      <td>Ketapril</td>\n",
       "      <td>Male</td>\n",
       "      <td>21</td>\n",
       "      <td>25</td>\n",
       "    </tr>\n",
       "  </tbody>\n",
       "</table>\n",
       "</div>"
      ],
      "text/plain": [
       "  Mouse ID  Timepoint  Tumor Volume (mm3)  Metastatic Sites Drug Regimen  \\\n",
       "0     b128          0                45.0                 0    Capomulin   \n",
       "1     f932          0                45.0                 0     Ketapril   \n",
       "2     g107          0                45.0                 0     Ketapril   \n",
       "3     a457          0                45.0                 0     Ketapril   \n",
       "4     c819          0                45.0                 0     Ketapril   \n",
       "\n",
       "      Sex  Age_months  Weight (g)  \n",
       "0  Female           9          22  \n",
       "1    Male          15          29  \n",
       "2  Female           2          29  \n",
       "3  Female          11          30  \n",
       "4    Male          21          25  "
      ]
     },
     "execution_count": 5,
     "metadata": {},
     "output_type": "execute_result"
    }
   ],
   "source": [
    "combined_df = pd.merge(study_results, mouse_metadata, how =\"left\", on=[\"Mouse ID\",\"Mouse ID\"])\n",
    "#combined_df.rename(columns={'Tumor Volume (mm3)': 'Tumor_Volume'}, inplace=True)\n",
    "#combined_df = combined_df.set_index('Mouse ID')\n",
    "combined_df.head()"
   ]
  },
  {
   "cell_type": "code",
   "execution_count": 6,
   "metadata": {},
   "outputs": [
    {
     "data": {
      "text/html": [
       "<div>\n",
       "<style scoped>\n",
       "    .dataframe tbody tr th:only-of-type {\n",
       "        vertical-align: middle;\n",
       "    }\n",
       "\n",
       "    .dataframe tbody tr th {\n",
       "        vertical-align: top;\n",
       "    }\n",
       "\n",
       "    .dataframe thead th {\n",
       "        text-align: right;\n",
       "    }\n",
       "</style>\n",
       "<table border=\"1\" class=\"dataframe\">\n",
       "  <thead>\n",
       "    <tr style=\"text-align: right;\">\n",
       "      <th></th>\n",
       "      <th>Mean</th>\n",
       "      <th>Median</th>\n",
       "      <th>Variance</th>\n",
       "      <th>Standard Deviation</th>\n",
       "      <th>SEM</th>\n",
       "      <th>Number of Tumor</th>\n",
       "    </tr>\n",
       "    <tr>\n",
       "      <th>Drug Regimen</th>\n",
       "      <th></th>\n",
       "      <th></th>\n",
       "      <th></th>\n",
       "      <th></th>\n",
       "      <th></th>\n",
       "      <th></th>\n",
       "    </tr>\n",
       "  </thead>\n",
       "  <tbody>\n",
       "    <tr>\n",
       "      <td>Capomulin</td>\n",
       "      <td>40.675741</td>\n",
       "      <td>41.557809</td>\n",
       "      <td>24.947764</td>\n",
       "      <td>4.994774</td>\n",
       "      <td>0.329346</td>\n",
       "      <td>230</td>\n",
       "    </tr>\n",
       "    <tr>\n",
       "      <td>Ceftamin</td>\n",
       "      <td>52.591172</td>\n",
       "      <td>51.776157</td>\n",
       "      <td>39.290177</td>\n",
       "      <td>6.268188</td>\n",
       "      <td>0.469821</td>\n",
       "      <td>178</td>\n",
       "    </tr>\n",
       "    <tr>\n",
       "      <td>Infubinol</td>\n",
       "      <td>52.884795</td>\n",
       "      <td>51.820584</td>\n",
       "      <td>43.128684</td>\n",
       "      <td>6.567243</td>\n",
       "      <td>0.492236</td>\n",
       "      <td>178</td>\n",
       "    </tr>\n",
       "    <tr>\n",
       "      <td>Ketapril</td>\n",
       "      <td>55.235638</td>\n",
       "      <td>53.698743</td>\n",
       "      <td>68.553577</td>\n",
       "      <td>8.279709</td>\n",
       "      <td>0.603860</td>\n",
       "      <td>188</td>\n",
       "    </tr>\n",
       "    <tr>\n",
       "      <td>Naftisol</td>\n",
       "      <td>54.331565</td>\n",
       "      <td>52.509285</td>\n",
       "      <td>66.173479</td>\n",
       "      <td>8.134708</td>\n",
       "      <td>0.596466</td>\n",
       "      <td>186</td>\n",
       "    </tr>\n",
       "    <tr>\n",
       "      <td>Placebo</td>\n",
       "      <td>54.033581</td>\n",
       "      <td>52.288934</td>\n",
       "      <td>61.168083</td>\n",
       "      <td>7.821003</td>\n",
       "      <td>0.581331</td>\n",
       "      <td>181</td>\n",
       "    </tr>\n",
       "    <tr>\n",
       "      <td>Propriva</td>\n",
       "      <td>52.322552</td>\n",
       "      <td>50.854632</td>\n",
       "      <td>42.351070</td>\n",
       "      <td>6.507770</td>\n",
       "      <td>0.512884</td>\n",
       "      <td>161</td>\n",
       "    </tr>\n",
       "    <tr>\n",
       "      <td>Ramicane</td>\n",
       "      <td>40.216745</td>\n",
       "      <td>40.673236</td>\n",
       "      <td>23.486704</td>\n",
       "      <td>4.846308</td>\n",
       "      <td>0.320955</td>\n",
       "      <td>228</td>\n",
       "    </tr>\n",
       "    <tr>\n",
       "      <td>Stelasyn</td>\n",
       "      <td>54.233149</td>\n",
       "      <td>52.431737</td>\n",
       "      <td>59.450562</td>\n",
       "      <td>7.710419</td>\n",
       "      <td>0.573111</td>\n",
       "      <td>181</td>\n",
       "    </tr>\n",
       "    <tr>\n",
       "      <td>Zoniferol</td>\n",
       "      <td>53.236507</td>\n",
       "      <td>51.818479</td>\n",
       "      <td>48.533355</td>\n",
       "      <td>6.966589</td>\n",
       "      <td>0.516398</td>\n",
       "      <td>182</td>\n",
       "    </tr>\n",
       "  </tbody>\n",
       "</table>\n",
       "</div>"
      ],
      "text/plain": [
       "                   Mean     Median   Variance  Standard Deviation       SEM  \\\n",
       "Drug Regimen                                                                  \n",
       "Capomulin     40.675741  41.557809  24.947764            4.994774  0.329346   \n",
       "Ceftamin      52.591172  51.776157  39.290177            6.268188  0.469821   \n",
       "Infubinol     52.884795  51.820584  43.128684            6.567243  0.492236   \n",
       "Ketapril      55.235638  53.698743  68.553577            8.279709  0.603860   \n",
       "Naftisol      54.331565  52.509285  66.173479            8.134708  0.596466   \n",
       "Placebo       54.033581  52.288934  61.168083            7.821003  0.581331   \n",
       "Propriva      52.322552  50.854632  42.351070            6.507770  0.512884   \n",
       "Ramicane      40.216745  40.673236  23.486704            4.846308  0.320955   \n",
       "Stelasyn      54.233149  52.431737  59.450562            7.710419  0.573111   \n",
       "Zoniferol     53.236507  51.818479  48.533355            6.966589  0.516398   \n",
       "\n",
       "              Number of Tumor  \n",
       "Drug Regimen                   \n",
       "Capomulin                 230  \n",
       "Ceftamin                  178  \n",
       "Infubinol                 178  \n",
       "Ketapril                  188  \n",
       "Naftisol                  186  \n",
       "Placebo                   181  \n",
       "Propriva                  161  \n",
       "Ramicane                  228  \n",
       "Stelasyn                  181  \n",
       "Zoniferol                 182  "
      ]
     },
     "execution_count": 6,
     "metadata": {},
     "output_type": "execute_result"
    }
   ],
   "source": [
    "regimen_df = combined_df.groupby(\"Drug Regimen\")\n",
    "\n",
    "regimen_mean = regimen_df[\"Tumor Volume (mm3)\"].mean()\n",
    "regimen_median = regimen_df[\"Tumor Volume (mm3)\"].median()\n",
    "regimen_variance = regimen_df[\"Tumor Volume (mm3)\"].var()\n",
    "regimen_std = regimen_df[\"Tumor Volume (mm3)\"].std()\n",
    "regimen_sem = regimen_df[\"Tumor Volume (mm3)\"].sem()\n",
    "regimen_tumor_volume = regimen_df[\"Tumor Volume (mm3)\"].count()\n",
    "\n",
    "regimen_stats_df = pd.DataFrame({\"Mean\": regimen_mean,\n",
    "                                \"Median\": regimen_median,\n",
    "                                \"Variance\": regimen_variance,\n",
    "                                \"Standard Deviation\": regimen_std,\n",
    "                               \"SEM\": regimen_sem,\n",
    "                               \"Number of Tumor\": regimen_tumor_volume})\n",
    "regimen_stats_df.index.name = \"Drug Regimen\"\n",
    "\n",
    "regimen_stats_df\n"
   ]
  },
  {
   "cell_type": "code",
   "execution_count": 7,
   "metadata": {},
   "outputs": [],
   "source": [
    "x_axis = np.arange(len(regimen_df))"
   ]
  },
  {
   "cell_type": "code",
   "execution_count": 8,
   "metadata": {
    "scrolled": true
   },
   "outputs": [
    {
     "data": {
      "text/plain": [
       "Text(0, 0.5, 'Number of Tumors')"
      ]
     },
     "execution_count": 8,
     "metadata": {},
     "output_type": "execute_result"
    },
    {
     "data": {
      "image/png": "[encoded data removed]",
      "text/plain": [
       "<Figure size 1440x216 with 1 Axes>"
      ]
     },
     "metadata": {
      "needs_background": "light"
     },
     "output_type": "display_data"
    }
   ],
   "source": [
    "# Generate a bar plot showing number of data points for each treatment regimen using pyplot\n",
    "tick_locations = [value for value in x_axis]\n",
    "\n",
    "drug_list = regimen_stats_df[\"Number of Tumor\"].keys()\n",
    "\n",
    "plt.figure(figsize=(20,3))\n",
    "plt.bar(x_axis, regimen_stats_df[\"Number of Tumor\"] , color = \"r\", alpha = 0.5,  align = \"center\")\n",
    "plt.xticks(tick_locations, drug_list, rotation = \"vertical\")\n",
    "\n",
    "plt.xlim(-0.55, len(x_axis)-0.43)\n",
    "plt.ylim(0, max(regimen_stats_df[\"Number of Tumor\"])+10)\n",
    "\n",
    "plt.title(\"Regimen Treatment\")\n",
    "plt.xlabel(\"Drug Regimen\")\n",
    "plt.ylabel(\"Number of Tumors\")\n"
   ]
  },
  {
   "cell_type": "code",
   "execution_count": 9,
   "metadata": {},
   "outputs": [
    {
     "data": {
      "text/plain": [
       "Text(0.5, 1.0, 'Regimen Treatment')"
      ]
     },
     "execution_count": 9,
     "metadata": {},
     "output_type": "execute_result"
    },
    {
     "data": {
      "image/png": "[encoded data removed]",
      "text/plain": [
       "<Figure size 432x288 with 1 Axes>"
      ]
     },
     "metadata": {
      "needs_background": "light"
     },
     "output_type": "display_data"
    }
   ],
   "source": [
    "# Generate a bar plot showing number of data points for each treatment regimen using pandas\n",
    "\n",
    "drug_regimen = combined_df[\"Drug Regimen\"].value_counts()\n",
    "\n",
    "drug_regimen_graph = drug_regimen.plot(kind = \"bar\", facecolor = \"blue\")\n",
    "\n",
    "plt.xlabel(\"Drug Regimen\")\n",
    "plt.ylabel(\"Number of Tumors\")\n",
    "plt.title(\"Regimen Treatment\")"
   ]
  },
  {
   "cell_type": "code",
   "execution_count": 10,
   "metadata": {},
   "outputs": [
    {
     "data": {
      "image/png": "[encoded data removed]",
      "text/plain": [
       "<Figure size 432x288 with 1 Axes>"
      ]
     },
     "metadata": {},
     "output_type": "display_data"
    },
    {
     "data": {
      "text/plain": [
       "<Figure size 432x288 with 0 Axes>"
      ]
     },
     "metadata": {},
     "output_type": "display_data"
    }
   ],
   "source": [
    "# Generate a pie plot showing the distribution of female versus male mice using pandas\n",
    "number_duplicates_mouse = combined_df.drop_duplicates([\"Mouse ID\"])\n",
    "\n",
    "gender_count = number_duplicates_mouse.groupby([\"Sex\"]).size().to_frame(\"Count\")\n",
    "\n",
    "gender_list = gender_count.keys()\n",
    "\n",
    "gender_pie = gender_count.plot(kind=\"pie\", y=gender_list, startangle = 140, autopct = \"%1.1f%%\", title = (\"Distribution of Mice by Sex\"))\n",
    "gender_pie.set_ylabel(\"\")\n",
    "\n",
    "plt.axis(\"equal\")\n",
    "plt.show()\n",
    "plt.tight_layout()"
   ]
  },
  {
   "cell_type": "code",
   "execution_count": 11,
   "metadata": {},
   "outputs": [
    {
     "name": "stderr",
     "output_type": "stream",
     "text": [
      "C:\\Users\\omarm\\AppData\\Local\\Continuum\\anaconda3\\lib\\site-packages\\ipykernel_launcher.py:6: MatplotlibDeprecationWarning: Non-1D inputs to pie() are currently squeeze()d, but this behavior is deprecated since 3.1 and will be removed in 3.3; pass a 1D array instead.\n",
      "  \n"
     ]
    },
    {
     "data": {
      "text/plain": [
       "([<matplotlib.patches.Wedge at 0x27ed7e65208>,\n",
       "  <matplotlib.patches.Wedge at 0x27ed7e6e3c8>],\n",
       " [Text(-1.1775773804745815, -0.230892860423667, 'Male'),\n",
       "  Text(1.0794459321016998, 0.21165178872169366, 'Female')],\n",
       " [Text(-0.6869201386101724, -0.13468750191380574, '50.6%'),\n",
       "  Text(0.5887886902372907, 0.11544643021183289, '49.4%')])"
      ]
     },
     "execution_count": 11,
     "metadata": {},
     "output_type": "execute_result"
    },
    {
     "data": {
      "image/png": "[encoded data removed]",
      "text/plain": [
       "<Figure size 432x288 with 1 Axes>"
      ]
     },
     "metadata": {},
     "output_type": "display_data"
    }
   ],
   "source": [
    "# Generate a pie plot showing the distribution of female versus male mice using pyplot\n",
    "\n",
    "gender_count = pd.DataFrame(combined_df[\"Sex\"].value_counts())\n",
    "labels = [\"Male\", \"Female\"]\n",
    "explode = (0.1,0)\n",
    "plt.pie(gender_count, explode=explode, labels=labels, autopct=\"%1.1f%%\", shadow=True, startangle=100)"
   ]
  },
  {
   "cell_type": "code",
   "execution_count": 12,
   "metadata": {},
   "outputs": [
    {
     "data": {
      "text/plain": [
       "Series([], Name: Tumor Volume (mm3), dtype: float64)"
      ]
     },
     "execution_count": 12,
     "metadata": {},
     "output_type": "execute_result"
    }
   ],
   "source": [
    "max_tumor = combined_df.groupby([\"Mouse ID\"]).max()\n",
    "max_tumor = max_tumor.reset_index()\n",
    "merged_df = max_tumor[[\"Mouse ID\", \"Timepoint\"]].merge(combined_df, on = [\"Mouse ID\", \"Timepoint\"], how = \"left\")\n",
    "capomulin = merged_df.loc[merged_df[\"Drug Regimen\"] == \"Capomulin\"][\"Tumor Volume (mm3)\"]\n",
    "\n",
    "#define 3 quartiles and calculate IQR\n",
    "\n",
    "quartiles = capomulin.quantile([0.25, 0.50, 0.75])\n",
    "upperbound_quartile = quartiles[0.75]\n",
    "lowerbound_quartile = quartiles[0.25]\n",
    "iqr = upperbound_quartile - lowerbound_quartile\n",
    "\n",
    "lowerbound = lowerbound_quartile - (1.5*iqr)\n",
    "upperbound = upperbound_quartile + (1.5*iqr)\n",
    "\n",
    "capomulin.loc[(capomulin < lowerbound) | (capomulin > upperbound)]\n",
    "\n",
    "\n",
    "#print(outliers)\n",
    "\n",
    "\n",
    "\n",
    "\n"
   ]
  },
  {
   "cell_type": "code",
   "execution_count": 13,
   "metadata": {},
   "outputs": [
    {
     "name": "stdout",
     "output_type": "stream",
     "text": [
      "Series([], Name: Tumor Volume (mm3), dtype: float64)\n"
     ]
    }
   ],
   "source": [
    "ramicane = merged_df.loc[merged_df[\"Drug Regimen\"] == \"Ramicane\"][\"Tumor Volume (mm3)\"]\n",
    "\n",
    "quartiles = ramicane.quantile([0.25, 0.50, 0.75])\n",
    "upperbound_quartile = quartiles[0.75]\n",
    "lowerbound_quartile = quartiles[0.25]\n",
    "iqr = upperbound_quartile - lowerbound_quartile\n",
    "\n",
    "lowerbound = lowerbound_quartile - (1.5*iqr)\n",
    "upperbound = upperbound_quartile + (1.5*iqr)\n",
    "\n",
    "outliers = ramicane.loc[(ramicane < lowerbound) | (ramicane > upperbound)]\n",
    "\n",
    "\n",
    "print(outliers)\n",
    "\n"
   ]
  },
  {
   "cell_type": "code",
   "execution_count": 14,
   "metadata": {},
   "outputs": [
    {
     "name": "stdout",
     "output_type": "stream",
     "text": [
      "31    36.321346\n",
      "Name: Tumor Volume (mm3), dtype: float64\n"
     ]
    }
   ],
   "source": [
    "infubinol = merged_df.loc[merged_df[\"Drug Regimen\"] == \"Infubinol\"][\"Tumor Volume (mm3)\"]\n",
    "\n",
    "quartiles = infubinol.quantile([0.25, 0.50, 0.75])\n",
    "upperbound_quartile = quartiles[0.75]\n",
    "lowerbound_quartile = quartiles[0.25]\n",
    "iqr = upperbound_quartile - lowerbound_quartile\n",
    "\n",
    "lowerbound = lowerbound_quartile - (1.5*iqr)\n",
    "upperbound = upperbound_quartile + (1.5*iqr)\n",
    "\n",
    "outliers = infubinol.loc[(infubinol < lowerbound) | (infubinol > upperbound)]\n",
    "\n",
    "\n",
    "print(outliers)\n"
   ]
  },
  {
   "cell_type": "code",
   "execution_count": 15,
   "metadata": {},
   "outputs": [
    {
     "name": "stdout",
     "output_type": "stream",
     "text": [
      "Series([], Name: Tumor Volume (mm3), dtype: float64)\n"
     ]
    }
   ],
   "source": [
    "ceftamin = merged_df.loc[merged_df[\"Drug Regimen\"] == \"Ceftamin\"][\"Tumor Volume (mm3)\"]\n",
    "\n",
    "quartiles = ceftamin.quantile([0.25, 0.50, 0.75])\n",
    "upperbound_quartile = quartiles[0.75]\n",
    "lowerbound_quartile = quartiles[0.25]\n",
    "iqr = upperbound_quartile - lowerbound_quartile\n",
    "\n",
    "lowerbound = lowerbound_quartile - (1.5*iqr)\n",
    "upperbound = upperbound_quartile + (1.5*iqr)\n",
    "\n",
    "outliers = ceftamin.loc[(ceftamin < lowerbound) | (ceftamin > upperbound)]\n",
    "\n",
    "\n",
    "print(outliers)"
   ]
  },
  {
   "cell_type": "code",
   "execution_count": 16,
   "metadata": {},
   "outputs": [
    {
     "data": {
      "image/png": "[encoded data removed]",
      "text/plain": [
       "<Figure size 432x288 with 1 Axes>"
      ]
     },
     "metadata": {
      "needs_background": "light"
     },
     "output_type": "display_data"
    }
   ],
   "source": [
    "plt.boxplot([capomulin, ramicane, infubinol, ceftamin], labels = [\"Capomulin\",\"Ramicane\",\"Infubinol\",\"Ceftamin\"], showmeans= True)\n",
    "plt.grid()\n",
    "plt.show()\n"
   ]
  },
  {
   "cell_type": "code",
   "execution_count": 71,
   "metadata": {},
   "outputs": [
    {
     "data": {
      "text/plain": [
       "Text(0, 0.5, 'Timepoint')"
      ]
     },
     "execution_count": 71,
     "metadata": {},
     "output_type": "execute_result"
    },
    {
     "data": {
      "image/png": "[encoded data removed]",
      "text/plain": [
       "<Figure size 864x576 with 1 Axes>"
      ]
     },
     "metadata": {
      "needs_background": "light"
     },
     "output_type": "display_data"
    }
   ],
   "source": [
    "capomulin_drug = combined_df[combined_df[\"Drug Regimen\"]==\"Capomulin\"]\n",
    "capomulin_drug\n",
    "\n",
    "mouse_data = capomulin_drug[capomulin_drug[\"Mouse ID\"] == \"j246\"]\n",
    "\n",
    "\n",
    "mouse_data\n",
    "ax=mouse_data.plot(x=\"Timepoint\", y=[\"Tumor Volume (mm3)\"],figsize=(12,8))\n",
    "ax.set_title(\"Tumor Volume\", fontsize=14)\n",
    "plt.ylabel(\"Timepoint\")"
   ]
  },
  {
   "cell_type": "code",
   "execution_count": 105,
   "metadata": {},
   "outputs": [
    {
     "data": {
      "text/plain": [
       "Text(0, 0.5, 'Tumor Volume')"
      ]
     },
     "execution_count": 105,
     "metadata": {},
     "output_type": "execute_result"
    },
    {
     "data": {
      "image/png": "[encoded data removed]",
      "text/plain": [
       "<Figure size 432x288 with 1 Axes>"
      ]
     },
     "metadata": {
      "needs_background": "light"
     },
     "output_type": "display_data"
    }
   ],
   "source": [
    "mouse_avg = capomulin_drug.groupby(\"Mouse ID\").mean()\n",
    "mouse_avg\n",
    "\n",
    "plt.scatter(x=mouse_avg[\"Weight (g)\"], y=mouse_avg[\"Tumor Volume (mm3)\"],color='blue', marker='o')\n",
    "\n",
    "plt.title(\"Weight vs Tumor Volume\",fontsize=12)\n",
    "plt.xlabel(\"Weight\")\n",
    "plt.ylabel(\"Tumor Volume\")\n"
   ]
  },
  {
   "cell_type": "code",
   "execution_count": 140,
   "metadata": {},
   "outputs": [
    {
     "name": "stdout",
     "output_type": "stream",
     "text": [
      "(0.8419363424694717, 1.322572243471279e-07) (0.8419363424694717, 1.322572243471279e-07)\n"
     ]
    }
   ],
   "source": [
    "mouse_avg = capomulin_drug.groupby(\"Mouse ID\").mean()\n",
    "\n",
    "\n",
    "weight = mouse_avg.iloc[:,4]\n",
    "tumor = mouse_avg.iloc[:,1]\n",
    "\n",
    "correlation1= st.pearsonr(mouse_avg['Weight (g)'],mouse_avg['Tumor Volume (mm3)'])\n",
    "correlation1\n",
    "\n",
    "correlation2 = st.pearsonr(weight,tumor)\n",
    "print(correlation1,correlation2)"
   ]
  },
  {
   "cell_type": "code",
   "execution_count": 147,
   "metadata": {},
   "outputs": [
    {
     "data": {
      "image/png": "[encoded data removed]",
      "text/plain": [
       "<Figure size 432x288 with 1 Axes>"
      ]
     },
     "metadata": {
      "needs_background": "light"
     },
     "output_type": "display_data"
    }
   ],
   "source": [
    "x_values = mouse_avg[\"Weight (g)\"]\n",
    "y_values = mouse_avg[\"Tumor Volume (mm3)\"]\n",
    "\n",
    "(slope, intercept, rvalue, pvalue, stderr) = linregress(x_values, y_values)\n",
    "regression_value = x_values * slope + intercept \n",
    "line_eq = \"y = \" + str(round(slope,2)) + \"x + \" + str(round(intercept,2))\n",
    "plt.scatter(x_values,y_values)\n",
    "plt.plot(x_values,regression_value,\"r-\")\n",
    "plt.annotate(line_eq,(6,10),fontsize=15,color=\"red\")\n",
    "plt.xlabel('Weight')\n",
    "plt.ylabel('Numer of Tumor')\n",
    "plt.show()"
   ]
  },
  {
   "cell_type": "code",
   "execution_count": null,
   "metadata": {},
   "outputs": [],
   "source": []
  }
 ],
 "metadata": {
  "kernelspec": {
   "display_name": "Python 3",
   "language": "python",
   "name": "python3"
  },
  "language_info": {
   "codemirror_mode": {
    "name": "ipython",
    "version": 3
   },
   "file_extension": ".py",
   "mimetype": "text/x-python",
   "name": "python",
   "nbconvert_exporter": "python",
   "pygments_lexer": "ipython3",
   "version": "3.7.4"
  }
 },
 "nbformat": 4,
 "nbformat_minor": 2
}
